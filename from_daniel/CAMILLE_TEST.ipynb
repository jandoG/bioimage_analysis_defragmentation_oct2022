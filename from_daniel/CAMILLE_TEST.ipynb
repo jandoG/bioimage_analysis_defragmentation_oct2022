{
 "cells": [
  {
   "cell_type": "code",
   "execution_count": null,
   "id": "76f65a4a",
   "metadata": {},
   "outputs": [],
   "source": [
    "from skimage.io import imread\n",
    "import pyclesperanto_prototype as cle  # version 0.19.4\n",
    "import napari\n",
    "viewer = napari.Viewer()"
   ]
  },
  {
   "cell_type": "markdown",
   "id": "d5aea805",
   "metadata": {},
   "source": [
    "## Loading 'Result of ObjectSegmenter.cl'\n",
    "Please enter code for loading 'Result of ObjectSegmenter.cl' here."
   ]
  },
  {
   "cell_type": "code",
   "execution_count": null,
   "id": "191649c0",
   "metadata": {},
   "outputs": [],
   "source": [
    "#filename = 'path/to/image.tif'\n",
    "#image0_O = imread(filename)\n",
    "image0_O = viewer.layers['Result of ObjectSegmenter.cl'].data"
   ]
  },
  {
   "cell_type": "markdown",
   "id": "c02f4806",
   "metadata": {},
   "source": [
    "## Loading 'C=3 - cl80_s1_lame1_line1_slice2_th_psyn_lamp1_lc3_x40_snap1.czi -  - Sum Slices'"
   ]
  },
  {
   "cell_type": "code",
   "execution_count": null,
   "id": "0ea21619",
   "metadata": {
    "lines_to_next_cell": 2
   },
   "outputs": [],
   "source": [
    "image1_Csllstpllxs = imread(\n",
    "    \"G:/My Drive/FACSI/Image Analysis/Defrag_2022_Crick/Team HW/.czi/C=3 - cl80_s1_lame1_line1_slice2_th_psyn_lamp1_lc3_x40_snap1.czi -  - Sum Slices.tif\")\n",
    "viewer.add_image(image1_Csllstpllxs,\n",
    "                 name='C=3 - cl80_s1_lame1_line1_slice2_th_psyn_lamp1_lc3_x40_snap1.czi -  - Sum Slices')\n",
    "napari.utils.nbscreenshot(viewer)"
   ]
  },
  {
   "cell_type": "markdown",
   "id": "282da3b6",
   "metadata": {},
   "source": [
    "Classifier"
   ]
  },
  {
   "cell_type": "code",
   "execution_count": null,
   "id": "82f00109",
   "metadata": {},
   "outputs": [],
   "source": []
  },
  {
   "cell_type": "markdown",
   "id": "ce32aa52",
   "metadata": {},
   "source": [
    "## Loading 'Labels'\n",
    "Please enter code for loading 'Labels' here."
   ]
  },
  {
   "cell_type": "code",
   "execution_count": null,
   "id": "28452e3c",
   "metadata": {},
   "outputs": [],
   "source": [
    "#filename = 'path/to/image.tif'\n",
    "#image2_L = imread(filename)\n",
    "image2_L = viewer.layers['Labels'].data"
   ]
  },
  {
   "cell_type": "markdown",
   "id": "65319ef3",
   "metadata": {},
   "source": [
    "## exclude labels outside size range"
   ]
  },
  {
   "cell_type": "code",
   "execution_count": null,
   "id": "86b604bc",
   "metadata": {},
   "outputs": [],
   "source": [
    "image3_eloosr = cle.exclude_labels_outside_size_range(\n",
    "    image0_O, None, 1000.0, 50000.0)\n",
    "viewer.add_labels(\n",
    "    image3_eloosr, name='Result of exclude_labels_out_of_size_range (clesperanto)')\n",
    "napari.utils.nbscreenshot(viewer)"
   ]
  },
  {
   "cell_type": "markdown",
   "id": "c2c4aee1",
   "metadata": {},
   "source": [
    "## exclude labels with map values out of range"
   ]
  },
  {
   "cell_type": "code",
   "execution_count": null,
   "id": "3a9e7e07",
   "metadata": {},
   "outputs": [],
   "source": [
    "image4_elwmvoor = cle.exclude_labels_with_map_values_out_of_range(\n",
    "    image1_Csllstpllxs, image2_L, None, 1.0, 100.0)\n",
    "viewer.add_labels(\n",
    "    image4_elwmvoor, name='Result of exclude_labels_with_map_values_out_of_range (clesperanto)')\n",
    "napari.utils.nbscreenshot(viewer)"
   ]
  }
 ],
 "metadata": {
  "jupytext": {
   "cell_metadata_filter": "-all",
   "main_language": "python",
   "notebook_metadata_filter": "-all"
  },
  "kernelspec": {
   "display_name": "Python 3 (ipykernel)",
   "language": "python",
   "name": "python3"
  },
  "language_info": {
   "codemirror_mode": {
    "name": "ipython",
    "version": 3
   },
   "file_extension": ".py",
   "mimetype": "text/x-python",
   "name": "python",
   "nbconvert_exporter": "python",
   "pygments_lexer": "ipython3",
   "version": "3.9.13"
  }
 },
 "nbformat": 4,
 "nbformat_minor": 5
}
