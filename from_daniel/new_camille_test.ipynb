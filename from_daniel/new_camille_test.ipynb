{
 "cells": [
  {
   "cell_type": "code",
   "execution_count": 1,
   "id": "82d6a1ec",
   "metadata": {},
   "outputs": [
    {
     "name": "stderr",
     "output_type": "stream",
     "text": [
      "WARNING: DirectWrite: CreateFontFaceFromHDC() failed (Indicates an error in an input file such as a font file.) for QFontDef(Family=\"\", pointsize=12, pixelsize=16, styleHint=5, weight=50, stretch=100, hintingPreference=0) LOGFONT(\"MS Sans Serif\", lfWidth=0, lfHeight=-16) dpi=96\n"
     ]
    }
   ],
   "source": [
    "from skimage.io import imread\n",
    "import pyclesperanto_prototype as cle  # version 0.19.4\n",
    "import napari\n",
    "viewer = napari.Viewer()"
   ]
  },
  {
   "cell_type": "markdown",
   "id": "75459cbd",
   "metadata": {},
   "source": [
    "## Loading 'Result of ObjectSegmenter.cl'\n",
    "Please enter code for loading 'Result of ObjectSegmenter.cl' here."
   ]
  },
  {
   "cell_type": "code",
   "execution_count": null,
   "id": "22133eb5",
   "metadata": {},
   "outputs": [],
   "source": [
    "#filename = 'path/to/image.tif'\n",
    "#image0_O = imread(filename)\n",
    "image0_O = viewer.layers['Result of ObjectSegmenter.cl'].data"
   ]
  },
  {
   "cell_type": "markdown",
   "id": "707dbfcb",
   "metadata": {},
   "source": [
    "## Loading 'Labels'\n",
    "Please enter code for loading 'Labels' here."
   ]
  },
  {
   "cell_type": "code",
   "execution_count": null,
   "id": "e0df07e3",
   "metadata": {},
   "outputs": [],
   "source": [
    "#filename = 'path/to/image.tif'\n",
    "#image1_L = imread(filename)\n",
    "image1_L = viewer.layers['Labels'].data"
   ]
  },
  {
   "cell_type": "markdown",
   "id": "ccb994b9",
   "metadata": {},
   "source": [
    "## relabel sequential"
   ]
  },
  {
   "cell_type": "code",
   "execution_count": null,
   "id": "fa884773",
   "metadata": {},
   "outputs": [],
   "source": [
    "image2_cigilm = cle.relabel_sequential(image0_O, None, 4.0)\n",
    "viewer.add_labels(\n",
    "    image2_cigilm, name='Result of close_index_gaps_in_label_map (clesperanto)')\n",
    "napari.utils.nbscreenshot(viewer)"
   ]
  },
  {
   "cell_type": "markdown",
   "id": "68abe1d7",
   "metadata": {},
   "source": [
    "## dilate labels"
   ]
  },
  {
   "cell_type": "code",
   "execution_count": null,
   "id": "b1f26dc4",
   "metadata": {},
   "outputs": [],
   "source": [
    "image3_dl = cle.dilate_labels(image2_cigilm, None, 2.0)\n",
    "viewer.add_labels(image3_dl, name='Result of dilate_labels (clesperanto)')\n",
    "napari.utils.nbscreenshot(viewer)"
   ]
  },
  {
   "cell_type": "markdown",
   "id": "033125f5",
   "metadata": {},
   "source": [
    "## exclude labels outside size range"
   ]
  },
  {
   "cell_type": "code",
   "execution_count": null,
   "id": "92d6464b",
   "metadata": {},
   "outputs": [],
   "source": [
    "image4_eloosr = cle.exclude_labels_outside_size_range(\n",
    "    image1_L, None, 5000.0, 10000.0)\n",
    "viewer.add_labels(\n",
    "    image4_eloosr, name='Result of exclude_labels_out_of_size_range (clesperanto)')\n",
    "napari.utils.nbscreenshot(viewer)"
   ]
  },
  {
   "cell_type": "markdown",
   "id": "3ecd7614",
   "metadata": {},
   "source": [
    "## merge labels with border intensity within range"
   ]
  },
  {
   "cell_type": "code",
   "execution_count": null,
   "id": "5a460586",
   "metadata": {},
   "outputs": [],
   "source": [
    "image5_mlwbiwr = cle.merge_labels_with_border_intensity_within_range(\n",
    "    image4_eloosr, image1_L, None, 2.0, 100.0)"
   ]
  }
 ],
 "metadata": {
  "jupytext": {
   "cell_metadata_filter": "-all",
   "main_language": "python",
   "notebook_metadata_filter": "-all"
  },
  "kernelspec": {
   "display_name": "ilastik-napari-devbio",
   "language": "python",
   "name": "ilastik-napari-devbio"
  },
  "language_info": {
   "codemirror_mode": {
    "name": "ipython",
    "version": 3
   },
   "file_extension": ".py",
   "mimetype": "text/x-python",
   "name": "python",
   "nbconvert_exporter": "python",
   "pygments_lexer": "ipython3",
   "version": "3.9.13"
  }
 },
 "nbformat": 4,
 "nbformat_minor": 5
}
